{
 "cells": [
  {
   "cell_type": "code",
   "execution_count": 144,
   "metadata": {
    "collapsed": false
   },
   "outputs": [
    {
     "name": "stdout",
     "output_type": "stream",
     "text": [
      "Populating the interactive namespace from numpy and matplotlib\n"
     ]
    },
    {
     "name": "stderr",
     "output_type": "stream",
     "text": [
      "WARNING: pylab import has clobbered these variables: ['pylab']\n",
      "`%matplotlib` prevents importing * from pylab and numpy\n"
     ]
    }
   ],
   "source": [
    "%matplotlib inline \n",
    "%pylab inline"
   ]
  },
  {
   "cell_type": "code",
   "execution_count": 145,
   "metadata": {
    "collapsed": true
   },
   "outputs": [],
   "source": [
    "import pylab\n",
    "import matplotlib.pyplot as plt\n",
    "\n",
    "import matplotlib.mlab as mlab\n",
    "import numpy"
   ]
  },
  {
   "cell_type": "markdown",
   "metadata": {
    "collapsed": true
   },
   "source": [
    "<h2>Propuesta</h2>\n",
    "<p>En el experimento propuesto se planea calcular la frecuencia de la letra A para diferentes pasajes de los libros\n",
    "'War an Peace' y 'A tale of two cities', en idioma ingles, y compararlas con la frecuencia promedio de dicha letra en cada libro</p>\n",
    "<ul> \n",
    "<li>Primero que todo calculamos la frecuenia de la letra A para la totalidad de cada libro</li>\n",
    "<li>Luego, dividimos cada libro en una cantidad de pasaje igual al numero de experimentos a realizar.\n",
    "Cada pasaje tendra la misma cantidad de caracteres.</li>\n",
    "<li>Cada experimento consite entonces en coger cada pasaje, y dividirlo en 10 sub-pasajes. En cada sub-pasaje calculamos la \n",
    "la frecuencia de la letra A. Luego utilizando las diferentes frecuencias calculados, encontramos un valor promedio y una desviacion estandar\n",
    "para la frencuencia de la letra A\n",
    "en cada pasaje</li>\n",
    "\n",
    "<li>Finalmente comparmos la frecuencia de la letra A en cada pasaje con respecto a la frecuncia en todo el libro . La hipótesis nula es entonces: $$H_0:\\bar{\\mu} = 0$$\n",
    "        La hipótesis alterna es:$$H_1:\\bar{\\mu} \\neq 0$$ \n",
    "                \n",
    "                Calculamos entonces el p-value de la forma \n",
    "     \n",
    "                    $$t = \\frac{\\bar{\\mu} - \\mu}{SE}$$ Donde $$SE = \\frac{s}{\\sqrt{Numero de experimentos}}$$ \n",
    "                    \n",
    "<li>Finalmente variamos el numero de experimentos de 100 a 4000 y caracterizamos\n",
    "el mínimo, máximo y media de la distribucion de los p-values,  en función del número de experimentos. </li>\n",
    "</ul>"
   ]
  },
  {
   "cell_type": "code",
   "execution_count": 146,
   "metadata": {
    "collapsed": false
   },
   "outputs": [],
   "source": [
    "#A Tale of Two cities\n",
    "datos= open (\"pg98.txt\").read()\n",
    "\n",
    "\n",
    "\n",
    "Ntotal = 0 \n",
    "\n",
    "Todasletras=[]\n",
    "    \n",
    "Lineas = datos.split('\\n')\n",
    "\n",
    "for i in range(len(Lineas)):\n",
    "\n",
    "        palabras =  Lineas[i].split(' ') \n",
    "    \n",
    "    \n",
    "        for j in range(len(palabras)):\n",
    "        \n",
    "            letras = list(palabras[j])\n",
    "        \n",
    "            \n",
    "            for h in range(len(letras)):\n",
    "                \n",
    "                \n",
    "                Todasletras.append(letras[h])\n",
    "    \n",
    "    \n",
    "   "
   ]
  },
  {
   "cell_type": "code",
   "execution_count": 147,
   "metadata": {
    "collapsed": true
   },
   "outputs": [],
   "source": [
    "#War and Peace \n",
    "datos2= open (\"WarPeace.txt\").read()\n",
    "    \n",
    "\n",
    "Todasletras2 = []\n",
    "    \n",
    "Lineas2 = datos2.split('\\n')\n",
    "\n",
    "for i in range(len(Lineas2)):\n",
    "\n",
    "        palabras2 =  Lineas2[i].split(' ') \n",
    "    \n",
    "    \n",
    "        for j in range(len(palabras2)):\n",
    "        \n",
    "            letras2 = list(palabras2[j])\n",
    "        \n",
    "            \n",
    "            for h in range(len(letras2)):\n",
    "                \n",
    "                \n",
    "                Todasletras2.append(letras2[h])\n",
    "    "
   ]
  },
  {
   "cell_type": "code",
   "execution_count": 148,
   "metadata": {
    "collapsed": false
   },
   "outputs": [],
   "source": [
    "#calculamos la frecuncia de la letra A para cada libro\n",
    "\n",
    "NZ = 0\n",
    "for i in range(len(Todasletras)):\n",
    "    if (Todasletras[i] == 'A' or Todasletras[i] == 'a'):\n",
    "        NZ = NZ + 1\n",
    "        \n",
    "NZ2 = 0\n",
    "for i in range(len(Todasletras2)):\n",
    "    if (Todasletras2[i] == 'A' or Todasletras2[i] == 'a'):\n",
    "        NZ2 = NZ2 + 1        "
   ]
  },
  {
   "cell_type": "code",
   "execution_count": 149,
   "metadata": {
    "collapsed": false
   },
   "outputs": [
    {
     "name": "stdout",
     "output_type": "stream",
     "text": [
      "48167\n",
      "205807\n"
     ]
    }
   ],
   "source": [
    "print NZ\n",
    "print NZ2"
   ]
  },
  {
   "cell_type": "code",
   "execution_count": 150,
   "metadata": {
    "collapsed": false
   },
   "outputs": [
    {
     "name": "stdout",
     "output_type": "stream",
     "text": [
      "A tale of Two cities\n",
      "Numero de lineas =16272\n",
      "Numero de letras =649692\n",
      "Numero de  veces que aparece la latra A =48167\n",
      "Frecuencia Z 7.41382070273%\n",
      "War and Peace\n",
      "Numero de lineas =65008\n",
      "Numero de letras =2711734\n",
      "Numero de  veces que aparece la latra A =205807\n",
      "Frecuencia A 7.58949808499%\n"
     ]
    }
   ],
   "source": [
    "print 'A tale of Two cities'\n",
    "print 'Numero de lineas =' + str(len(Lineas))\n",
    "print 'Numero de letras =' + str(len(Todasletras))\n",
    "print 'Numero de  veces que aparece la latra A =' + str(NZ)\n",
    "\n",
    "promTC = 100*float(NZ)/float(len(Todasletras))\n",
    " \n",
    "print 'Frecuencia Z ' + str(promTC) + '%'\n",
    "\n",
    "print 'War and Peace'\n",
    "print  'Numero de lineas ='+str(len(Lineas2))\n",
    "print 'Numero de letras =' +str(len(Todasletras2))\n",
    "print 'Numero de  veces que aparece la latra A =' + str(NZ2)\n",
    "\n",
    "promWP = 100*float(NZ2)/float(len(Todasletras2))\n",
    "print 'Frecuencia A ' + str(promWP) + '%'"
   ]
  },
  {
   "cell_type": "code",
   "execution_count": 151,
   "metadata": {
    "collapsed": false
   },
   "outputs": [],
   "source": [
    "def prom(letras):\n",
    "    \n",
    "    frec = 0\n",
    " \n",
    "    Nz = 0\n",
    "    for j in range(len(letras)):\n",
    "        lt = letras[j]\n",
    "        if (lt == 'a' or lt == 'A'):\n",
    "            Nz = Nz + 1 \n",
    "    \n",
    "    frec = float(Nz)/float(len(letras))\n",
    "    \n",
    "   \n",
    "\n",
    "    return frec"
   ]
  },
  {
   "cell_type": "code",
   "execution_count": 187,
   "metadata": {
    "collapsed": false
   },
   "outputs": [],
   "source": [
    "\n",
    "\n",
    "def divlibro (Nexp):\n",
    "\n",
    "\n",
    "    \n",
    "    NletrasT = len(Todasletras)/Nexp\n",
    "    NletrasT2 = len(Todasletras2)/Nexp\n",
    "\n",
    "    Arrayexp = []\n",
    "    Arrayexp2 = []\n",
    "\n",
    "\n",
    "\n",
    "    for i in range(Nexp):\n",
    "\n",
    "        letras = []\n",
    "        for j in range(NletrasT):\n",
    "\n",
    "\n",
    "            letras.append(Todasletras[i*NletrasT+j])\n",
    "\n",
    "\n",
    "\n",
    "        Arrayexp.append(letras)\n",
    "        \n",
    "    \n",
    "    for i in range(Nexp):\n",
    "\n",
    "        letras2 = []\n",
    "        for j in range(NletrasT2):\n",
    "\n",
    "\n",
    "            letras2.append(Todasletras2[i*NletrasT2+j])\n",
    "\n",
    "\n",
    "\n",
    "        Arrayexp2.append(letras2)\n",
    "        \n",
    "    \n",
    "    devuelta = [Arrayexp,Arrayexp2]\n",
    "    \n",
    "    return devuelta\n",
    " "
   ]
  },
  {
   "cell_type": "code",
   "execution_count": 188,
   "metadata": {
    "collapsed": false
   },
   "outputs": [],
   "source": [
    "def experimento (LETRAS,frecletra,Nexp):\n",
    "    \n",
    "    \n",
    "    \n",
    "    Numeroexp = len(LETRAS)/30\n",
    "    \n",
    "    arrayexp2 = []\n",
    "    \n",
    "    frecuencia = []\n",
    "    \n",
    "    \n",
    "    for i in range(30):\n",
    "        letras = []\n",
    "        for j in range(Numeroexp):       \n",
    "        \n",
    "            letras.append(LETRAS[i*Numeroexp+j])\n",
    "        \n",
    "        arrayexp2.append(letras)\n",
    "           \n",
    "\n",
    "    for h in range(30):\n",
    "        \n",
    "        frecuencia.append(100*prom(arrayexp2[h]))\n",
    "    \n",
    "\n",
    "    \n",
    "    promedio = float(sum(frecuencia))/float(len(frecuencia))\n",
    "   \n",
    "    \n",
    "    SE = float(std(frecuencia))/np.sqrt(i)\n",
    "    pvalue = float(promedio - frecletra)/SE\n",
    "    \n",
    "   \n",
    "    return pvalue"
   ]
  },
  {
   "cell_type": "code",
   "execution_count": 189,
   "metadata": {
    "collapsed": false
   },
   "outputs": [],
   "source": [
    "pfinal=[]\n",
    "pfinal2 = []\n",
    "\n",
    "Nexperimentos = 500\n",
    "\n",
    "Datos = divlibro (Nexperimentos)\n",
    "\n",
    "Arrayexp=Datos[0]\n",
    "Arrayexp2=Datos[1]\n",
    "\n",
    "for i in range(len(Arrayexp)):\n",
    "       \n",
    "    coso = experimento(Arrayexp[i],promTC,Nexperimentos)\n",
    "    pfinal.append(coso)\n",
    "    \n",
    "    \n",
    "for i in range(len(Arrayexp2)):\n",
    "       \n",
    "    coso2 = experimento(Arrayexp2[i],promWP,Nexperimentos)\n",
    "    pfinal2.append(coso2)\n",
    "  \n"
   ]
  },
  {
   "cell_type": "code",
   "execution_count": 196,
   "metadata": {
    "collapsed": false
   },
   "outputs": [
    {
     "name": "stdout",
     "output_type": "stream",
     "text": [
      "Las graficas que se muestran fuera generadas al realizar 500 experimentos\n"
     ]
    },
    {
     "data": {
      "image/png": "[encoded data removed]",
      "text/plain": [
       "<matplotlib.figure.Figure at 0x7f2d3bd2ff50>"
      ]
     },
     "metadata": {},
     "output_type": "display_data"
    }
   ],
   "source": [
    "plt.figure(figsize=[15,8])\n",
    "plt.subplot(222)\n",
    "plt.hist(pfinal,30) \n",
    "xlabel('p-value')\n",
    "plt.title('Distribucion de los p-values para War and Peace',y=1.08)\n",
    "plt.subplot(221)\n",
    "plt.hist(pfinal2, 30)\n",
    "xlabel('p-value')\n",
    "plt.title('Distribucion de los p-values para A Tale of Two Cities',y=1.08)\n",
    "\n",
    "print 'Las graficas que se muestran fuera generadas al realizar 500 experimentos'"
   ]
  },
  {
   "cell_type": "code",
   "execution_count": 191,
   "metadata": {
    "collapsed": false
   },
   "outputs": [],
   "source": [
    "def muchos (cuantos):\n",
    "\n",
    "\n",
    "    pfinal=[]\n",
    "    pfinal2 = []\n",
    "\n",
    "    Nexperimentos = cuantos\n",
    "\n",
    "    Datos = divlibro (Nexperimentos)\n",
    "\n",
    "    Arrayexp=Datos[0]\n",
    "    Arrayexp2=Datos[1]\n",
    "\n",
    "    for i in range(len(Arrayexp)):\n",
    "\n",
    "        coso = experimento(Arrayexp[i],promTC,cuantos)\n",
    "        pfinal.append(coso)\n",
    "\n",
    "\n",
    "    for i in range(len(Arrayexp2)):\n",
    "\n",
    "        coso2 = experimento(Arrayexp2[i],promWP,cuantos)\n",
    "        pfinal2.append(coso2)\n",
    "\n",
    "    \n",
    "    min1= np.min(pfinal)\n",
    "    max1= np.max(pfinal)\n",
    "    mean1=np.mean(pfinal)\n",
    "    \n",
    "    primer = [min1,max1,mean1]\n",
    "    \n",
    "    min2= np.min(pfinal2)\n",
    "    max2= np.max(pfinal2)\n",
    "    mean2=np.mean(pfinal2)\n",
    "    \n",
    "    segundo = [min2,max2,mean2]\n",
    "    \n",
    "\n",
    "\n",
    "    return [primer,segundo]"
   ]
  },
  {
   "cell_type": "code",
   "execution_count": 192,
   "metadata": {
    "collapsed": false
   },
   "outputs": [],
   "source": [
    "cosos = []\n",
    "NumerExp  = []\n",
    "\n",
    "\n",
    "minimosW =[]\n",
    "maximosW=[]\n",
    "promediosW=[]\n",
    "\n",
    "\n",
    "\n",
    "minimosTTC=[]\n",
    "maximosTTC=[]\n",
    "promediosTTC=[]\n",
    "\n",
    "for i in range(100,4000,100):\n",
    "  \n",
    "    TaleTwoCities = muchos(i)[0]\n",
    "    \n",
    "    WarPaece= muchos(i)[1]\n",
    "    \n",
    "\n",
    "    minimosW.append(WarPaece[0])\n",
    "    maximosW.append(WarPaece[1])\n",
    "    promediosW.append(WarPaece[2])\n",
    "    \n",
    "    minimosTTC.append(TaleTwoCities [0])\n",
    "    maximosTTC.append(TaleTwoCities [1])\n",
    "    promediosTTC.append(TaleTwoCities [2])\n",
    "                    \n",
    "                    \n",
    "                    \n",
    "    NumerExp.append(i)\n",
    "    \n",
    "   \n",
    "    \n",
    "    \n",
    "\n",
    " "
   ]
  },
  {
   "cell_type": "code",
   "execution_count": 193,
   "metadata": {
    "collapsed": false
   },
   "outputs": [
    {
     "data": {
      "text/plain": [
       "<matplotlib.legend.Legend at 0x7f2d35236610>"
      ]
     },
     "execution_count": 193,
     "metadata": {},
     "output_type": "execute_result"
    },
    {
     "data": {
      "image/png": "[encoded data removed]",
      "text/plain": [
       "<matplotlib.figure.Figure at 0x7f2d3bd2f3d0>"
      ]
     },
     "metadata": {},
     "output_type": "display_data"
    }
   ],
   "source": [
    "#print NumerExp\n",
    "\n",
    "plot(NumerExp,minimosW,label='Minimos') \n",
    "\n",
    "plot(NumerExp,maximosW,label='Maximos')\n",
    "plot(NumerExp,promediosW,label='Media')\n",
    "plt.title('Evolucion de del minimo, maximo y media  de meta-distribucion de p-values  en funcion del numero de experimentos para el libro War and Peace.',y=1.08)\n",
    "\n",
    "\n",
    "xlabel('Numero de Experimentos')\n",
    "ylabel('p value')\n",
    "# Now add the legend with some customizations.\n",
    "plt.legend(['minimo', 'maximo', 'promedio'], loc='upper left')"
   ]
  },
  {
   "cell_type": "code",
   "execution_count": 194,
   "metadata": {
    "collapsed": false
   },
   "outputs": [
    {
     "data": {
      "text/plain": [
       "<matplotlib.legend.Legend at 0x7f2d341ad350>"
      ]
     },
     "execution_count": 194,
     "metadata": {},
     "output_type": "execute_result"
    },
    {
     "data": {
      "image/png": "[encoded data removed]",
      "text/plain": [
       "<matplotlib.figure.Figure at 0x7f2d33f60990>"
      ]
     },
     "metadata": {},
     "output_type": "display_data"
    }
   ],
   "source": [
    "#print NumerExp\n",
    "\n",
    "plot(NumerExp,minimosTTC,label='Minimos') \n",
    "\n",
    "plot(NumerExp,maximosTTC,label='Maximos')\n",
    "plot(NumerExp,promediosTTC,label='Media')\n",
    "\n",
    "\n",
    "plt.title('Evolucion de del minimo, maximo y media  de meta-distribucion de p-values  en funcion del numero de experimentos para el libro A tale of two Cities.',y=1.08)\n",
    "xlabel('Numero de Experimentos')\n",
    "ylabel('p value')\n",
    "# Now add the legend with some customizations.\n",
    "plt.legend(['minimo', 'maximo', 'promedio'], loc='upper left')"
   ]
  },
  {
   "cell_type": "code",
   "execution_count": 195,
   "metadata": {
    "collapsed": false
   },
   "outputs": [
    {
     "data": {
      "text/plain": [
       "<matplotlib.legend.Legend at 0x7f2d33e9b810>"
      ]
     },
     "execution_count": 195,
     "metadata": {},
     "output_type": "execute_result"
    },
    {
     "data": {
      "image/png": "[encoded data removed]",
      "text/plain": [
       "<matplotlib.figure.Figure at 0x7f2d341eab10>"
      ]
     },
     "metadata": {},
     "output_type": "display_data"
    }
   ],
   "source": [
    "plot(NumerExp,promediosW,label='Media')\n",
    "plot(NumerExp,promediosTTC,label='Media')\n",
    "\n",
    "\n",
    "plt.title('Evolucion de la media  de  la meta-distribucion de p-values  en funcion del numero de experimentos',y=1.08)\n",
    "xlabel('Numero de Experimentos')\n",
    "ylabel('p value')\n",
    "# Now add the legend with some customizations.\n",
    "plt.legend(['War and Peace','A Tale of Two Cities'], loc='upper left')"
   ]
  },
  {
   "cell_type": "code",
   "execution_count": null,
   "metadata": {
    "collapsed": true
   },
   "outputs": [],
   "source": []
  }
 ],
 "metadata": {
  "kernelspec": {
   "display_name": "Python 2",
   "language": "python",
   "name": "python2"
  },
  "language_info": {
   "codemirror_mode": {
    "name": "ipython",
    "version": 2
   },
   "file_extension": ".py",
   "mimetype": "text/x-python",
   "name": "python",
   "nbconvert_exporter": "python",
   "pygments_lexer": "ipython2",
   "version": "2.7.11"
  }
 },
 "nbformat": 4,
 "nbformat_minor": 0
}
